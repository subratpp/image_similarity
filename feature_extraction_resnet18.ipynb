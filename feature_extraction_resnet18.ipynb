{
 "cells": [
  {
   "cell_type": "markdown",
   "metadata": {},
   "source": [
    "# Feature Extraction of Image"
   ]
  },
  {
   "cell_type": "code",
   "execution_count": 1,
   "metadata": {},
   "outputs": [],
   "source": [
    "import torch\n",
    "import torch.nn as nn\n",
    "from torchvision.models import resnet18\n",
    "from collections import namedtuple\n",
    "import matplotlib.pyplot as plt\n",
    "\n",
    "from PIL import Image, ImageOps, ImageEnhance, ImageFilter\n",
    "from torchvision import transforms, datasets\n",
    "import numpy as np\n",
    "import torchvision.transforms.functional as F\n",
    "\n",
    "\n",
    "\n",
    "preprocess = transforms.Compose([\n",
    "    transforms.Resize(256), #256\n",
    "    transforms.CenterCrop(224),\n",
    "    transforms.ToTensor(),\n",
    "    transforms.Normalize(mean=[0.485, 0.456, 0.406], std=[0.229, 0.224, 0.225]),\n",
    "])"
   ]
  },
  {
   "cell_type": "code",
   "execution_count": 2,
   "metadata": {},
   "outputs": [],
   "source": [
    "import os\n",
    "import re\n",
    "file_list = os.listdir(\"sample_images/\")"
   ]
  },
  {
   "cell_type": "code",
   "execution_count": 3,
   "metadata": {},
   "outputs": [
    {
     "data": {
      "text/plain": [
       "['apple_2.png',\n",
       " 'apple_1.png',\n",
       " 'apple_8.jpg',\n",
       " 'apple_4.png',\n",
       " 'apple_7.jpg',\n",
       " 'apple_6.png',\n",
       " 'apple_3.png',\n",
       " 'apple_5.png']"
      ]
     },
     "execution_count": 3,
     "metadata": {},
     "output_type": "execute_result"
    }
   ],
   "source": [
    "file_list #show image filenames"
   ]
  },
  {
   "cell_type": "code",
   "execution_count": 4,
   "metadata": {},
   "outputs": [],
   "source": [
    "#create DL architecture from resnet18\n",
    "class Resnet18(torch.nn.Module):\n",
    "    def __init__(self):\n",
    "        super(Resnet18, self).__init__()\n",
    "        features = list( resnet18(pretrained = True).children() )[:8]\n",
    "        self.features = nn.ModuleList(features).eval() \n",
    "        \n",
    "    def forward(self, x):\n",
    "        with torch.no_grad():\n",
    "            layer_outputs = []\n",
    "            for layer,model in enumerate(self.features):\n",
    "                x = model(x)\n",
    "            avg = nn.AdaptiveAvgPool2d( (1, 1) ) #average the last layer\n",
    "            feature = avg(x).squeeze()\n",
    "\n",
    "            \n",
    "            return feature.flatten() # return the image feature"
   ]
  },
  {
   "cell_type": "code",
   "execution_count": 5,
   "metadata": {},
   "outputs": [
    {
     "name": "stderr",
     "output_type": "stream",
     "text": [
      "/home/subrat/anaconda3/lib/python3.8/site-packages/PIL/Image.py:962: UserWarning: Palette images with Transparency expressed in bytes should be converted to RGBA images\n",
      "  warnings.warn(\n"
     ]
    }
   ],
   "source": [
    "test_m = Resnet18()\n",
    "\n",
    "embedding = []\n",
    "for file_name in file_list:\n",
    "    try:\n",
    "        rgba_image = Image.open(f'sample_images/{file_name}')\n",
    "        input_image = rgba_image.convert('RGB')\n",
    "        input_tensor = preprocess(input_image)\n",
    "        input_batch = input_tensor.unsqueeze(0) # create a mini-batch as expected by the model by insering a dimension to the model\n",
    "\n",
    "        embb = test_m.forward( input_batch )\n",
    "        embb = np.array(embb)\n",
    "    except:\n",
    "        embb = np.zeros(512)\n",
    "        print(\"File Corrupted:\",file_name)\n",
    "\n",
    "    embedding.append(embb)\n",
    "\n",
    "embedding = np.array(embedding)   "
   ]
  },
  {
   "cell_type": "code",
   "execution_count": 6,
   "metadata": {},
   "outputs": [
    {
     "data": {
      "text/plain": [
       "(8, 512)"
      ]
     },
     "execution_count": 6,
     "metadata": {},
     "output_type": "execute_result"
    }
   ],
   "source": [
    "embedding.shape"
   ]
  },
  {
   "cell_type": "code",
   "execution_count": 7,
   "metadata": {},
   "outputs": [],
   "source": [
    "from sklearn.metrics.pairwise import cosine_similarity\n",
    "# cosine_similarity(embedding[0].reshape(1, -1), embedding[0].reshape(1, -1))\n",
    "corr = cosine_similarity(embedding)"
   ]
  },
  {
   "cell_type": "code",
   "execution_count": 9,
   "metadata": {},
   "outputs": [
    {
     "data": {
      "text/plain": [
       "array([[1.        , 0.8488487 , 0.74564266, 0.7401081 , 0.8466448 ,\n",
       "        0.82969064, 0.82175076, 0.7646676 ],\n",
       "       [0.8488487 , 1.        , 0.8021113 , 0.79801685, 0.87041306,\n",
       "        0.85927486, 0.90761775, 0.8282877 ],\n",
       "       [0.74564266, 0.8021113 , 1.0000001 , 0.7238499 , 0.893631  ,\n",
       "        0.7755171 , 0.8023988 , 0.7217093 ],\n",
       "       [0.7401081 , 0.79801685, 0.7238499 , 1.        , 0.7439215 ,\n",
       "        0.8172976 , 0.82594687, 0.7902893 ],\n",
       "       [0.8466448 , 0.87041306, 0.893631  , 0.7439215 , 1.        ,\n",
       "        0.8108857 , 0.857881  , 0.7336067 ],\n",
       "       [0.82969064, 0.85927486, 0.7755171 , 0.8172976 , 0.8108857 ,\n",
       "        0.9999999 , 0.85845864, 0.79729927],\n",
       "       [0.82175076, 0.90761775, 0.8023988 , 0.82594687, 0.857881  ,\n",
       "        0.85845864, 1.0000002 , 0.8581268 ],\n",
       "       [0.7646676 , 0.8282877 , 0.7217093 , 0.7902893 , 0.7336067 ,\n",
       "        0.79729927, 0.8581268 , 1.0000002 ]], dtype=float32)"
      ]
     },
     "execution_count": 9,
     "metadata": {},
     "output_type": "execute_result"
    }
   ],
   "source": [
    "corr"
   ]
  },
  {
   "cell_type": "code",
   "execution_count": 10,
   "metadata": {},
   "outputs": [],
   "source": [
    "import numpy as np\n",
    "import pandas as pd\n",
    "import seaborn as sns\n",
    "import matplotlib.pyplot as plt"
   ]
  },
  {
   "cell_type": "code",
   "execution_count": 11,
   "metadata": {},
   "outputs": [],
   "source": [
    "# Generate a mask for the upper triangle\n",
    "mask = np.triu(np.ones_like(corr, dtype=bool))"
   ]
  },
  {
   "cell_type": "code",
   "execution_count": 12,
   "metadata": {},
   "outputs": [
    {
     "data": {
      "text/plain": [
       "Text(159.0, 0.5, '[ImageName].jpg')"
      ]
     },
     "execution_count": 12,
     "metadata": {},
     "output_type": "execute_result"
    },
    {
     "data": {
      "image/png": "[encoded data removed]",
      "text/plain": [
       "<Figure size 1440x1080 with 2 Axes>"
      ]
     },
     "metadata": {
      "needs_background": "light"
     },
     "output_type": "display_data"
    }
   ],
   "source": [
    "# Set up the matplotlib figure\n",
    "f, ax = plt.subplots(figsize=(20, 15))\n",
    "\n",
    "\n",
    "# Draw the heatmap with the mask and correct aspect ratio\n",
    "sns.heatmap(corr, mask=mask, center=0.93, cbar_kws={\"shrink\": 0.5}, cmap=\"vlag\", annot=False)\n",
    "plt.xlabel('[ImageName].jpg')\n",
    "plt.ylabel('[ImageName].jpg')\n",
    "# f.savefig('heat_map.pdf', bbox_inches='tight')"
   ]
  },
  {
   "cell_type": "code",
   "execution_count": 13,
   "metadata": {},
   "outputs": [],
   "source": [
    "embb_r = np.round(embedding, decimals=2)\n",
    "np.savetxt(\"embedding.csv\", embb_r, delimiter=\",\")"
   ]
  }
 ],
 "metadata": {
  "interpreter": {
   "hash": "b050715ed2b1449976fc95a0e5e89ee4f6e76689e062ab1c7d856ae959068eb2"
  },
  "kernelspec": {
   "display_name": "Python 3",
   "language": "python",
   "name": "python3"
  },
  "language_info": {
   "codemirror_mode": {
    "name": "ipython",
    "version": 3
   },
   "file_extension": ".py",
   "mimetype": "text/x-python",
   "name": "python",
   "nbconvert_exporter": "python",
   "pygments_lexer": "ipython3",
   "version": "3.8.2"
  }
 },
 "nbformat": 4,
 "nbformat_minor": 2
}
